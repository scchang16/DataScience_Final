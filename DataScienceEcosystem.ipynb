{
 "cells": [
  {
   "cell_type": "markdown",
   "id": "3adb988d",
   "metadata": {},
   "source": [
    "# Data Science Tools and Ecosystem"
   ]
  },
  {
   "cell_type": "markdown",
   "id": "cac2bed6",
   "metadata": {},
   "source": [
    "## Author:\n",
    "Sunny Chang"
   ]
  },
  {
   "cell_type": "markdown",
   "id": "02dcc37c",
   "metadata": {},
   "source": [
    "## This notebook will summarize Data Science tools and ecosystems."
   ]
  },
  {
   "cell_type": "markdown",
   "id": "777d5b6c",
   "metadata": {},
   "source": [
    "## Objectives:\n",
    "- List some of the most popular Data Science languages\n",
    "- List some commonly used data science libraries and their purpose \n",
    "- Introduce some open-source Data Science tools (development environments)\n",
    "- Demonstrate simple arithmetic functions/expressions in Python"
   ]
  },
  {
   "cell_type": "markdown",
   "id": "24903a40",
   "metadata": {},
   "source": [
    "### Some of the popular languages that Data Scientists use are:\n",
    "1. Python\n",
    "2. R\n",
    "3. Java\n",
    "4. JavaScript\n",
    "5. Scala\n",
    "6. C++\n",
    "7. Julia\n",
    "8. SQL"
   ]
  },
  {
   "cell_type": "markdown",
   "id": "7da4fc0e",
   "metadata": {},
   "source": [
    "### Some of the commonly used libraries used by Data Scientists include:\n",
    "1. Python libraries: NymPy and Pandas for computation, Matplotlib for visualization, scitkit-learn for machine learning, and TensorFlow for deep learning\n",
    "2. R libraries: ggplot2, Plotly, Lattice, and Leaflet are all visualization libraries\n",
    "3. Scala libraries: Vegas for visualization and BigDL for deep learning"
   ]
  },
  {
   "cell_type": "markdown",
   "id": "de2c97b3",
   "metadata": {},
   "source": [
    "|Data Science Tools|\n",
    "| ----- |\n",
    "|Jupyter |\n",
    "|R Studio |\n",
    "|ApacheSpark |"
   ]
  },
  {
   "cell_type": "markdown",
   "id": "b6d7776a",
   "metadata": {},
   "source": [
    "### Here are a few examples of evaluating arithmetic expressions in Python:\n"
   ]
  },
  {
   "cell_type": "code",
   "execution_count": 2,
   "id": "9ea5e461",
   "metadata": {},
   "outputs": [
    {
     "data": {
      "text/plain": [
       "49935"
      ]
     },
     "execution_count": 2,
     "metadata": {},
     "output_type": "execute_result"
    }
   ],
   "source": [
    "50192 - 257          # subtraction"
   ]
  },
  {
   "cell_type": "code",
   "execution_count": 3,
   "id": "6224f868",
   "metadata": {},
   "outputs": [
    {
     "data": {
      "text/plain": [
       "38316"
      ]
     },
     "execution_count": 3,
     "metadata": {},
     "output_type": "execute_result"
    }
   ],
   "source": [
    "412 * 93             # multiplication"
   ]
  },
  {
   "cell_type": "code",
   "execution_count": 5,
   "id": "43bbd8ea",
   "metadata": {},
   "outputs": [
    {
     "data": {
      "text/plain": [
       "10.0"
      ]
     },
     "execution_count": 5,
     "metadata": {},
     "output_type": "execute_result"
    }
   ],
   "source": [
    "100 / 10             # division"
   ]
  },
  {
   "cell_type": "code",
   "execution_count": 6,
   "id": "cd6eab9c",
   "metadata": {},
   "outputs": [
    {
     "data": {
      "text/plain": [
       "10"
      ]
     },
     "execution_count": 6,
     "metadata": {},
     "output_type": "execute_result"
    }
   ],
   "source": [
    "100 // 10            # integer division"
   ]
  },
  {
   "cell_type": "code",
   "execution_count": 4,
   "id": "e09a71fc",
   "metadata": {},
   "outputs": [
    {
     "data": {
      "text/plain": [
       "4"
      ]
     },
     "execution_count": 4,
     "metadata": {},
     "output_type": "execute_result"
    }
   ],
   "source": [
    "2 ** 2               # exponentiation"
   ]
  },
  {
   "cell_type": "code",
   "execution_count": 14,
   "id": "046901cb",
   "metadata": {},
   "outputs": [
    {
     "data": {
      "text/plain": [
       "17"
      ]
     },
     "execution_count": 14,
     "metadata": {},
     "output_type": "execute_result"
    }
   ],
   "source": [
    "# This a simple arithmetic expression to mutiply then add integers:\n",
    "\n",
    "(3*4) + 5"
   ]
  },
  {
   "cell_type": "code",
   "execution_count": 13,
   "id": "c51bdd65",
   "metadata": {},
   "outputs": [
    {
     "data": {
      "text/plain": [
       "3.33"
      ]
     },
     "execution_count": 13,
     "metadata": {},
     "output_type": "execute_result"
    }
   ],
   "source": [
    "# This expression will convert 200 minutes into hours, rounded to two decimal places:\n",
    "\n",
    "round ((200 / 60), 2)"
   ]
  },
  {
   "cell_type": "code",
   "execution_count": null,
   "id": "fecdfccd",
   "metadata": {},
   "outputs": [],
   "source": []
  }
 ],
 "metadata": {
  "kernelspec": {
   "display_name": "Python 3 (ipykernel)",
   "language": "python",
   "name": "python3"
  },
  "language_info": {
   "codemirror_mode": {
    "name": "ipython",
    "version": 3
   },
   "file_extension": ".py",
   "mimetype": "text/x-python",
   "name": "python",
   "nbconvert_exporter": "python",
   "pygments_lexer": "ipython3",
   "version": "3.11.4"
  }
 },
 "nbformat": 4,
 "nbformat_minor": 5
}
